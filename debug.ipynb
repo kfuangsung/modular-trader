{
 "cells": [
  {
   "cell_type": "code",
   "execution_count": 52,
   "metadata": {},
   "outputs": [],
   "source": [
    "from framework_trader.universe import AssetUniverse\n",
    "from framework_trader.indicator.handler.alpaca import AlpacaIndicatorHandler\n",
    "from framework_trader.indicator.technical import  SMA, RSI, STOCH\n",
    "from framework_trader.indicator.technical.settings import  SamplingPeriodType\n",
    "from alpaca.data.requests import StockLatestBarRequest\n",
    "from alpaca.data.models.bars import Bar\n",
    "from datetime import datetime"
   ]
  },
  {
   "cell_type": "code",
   "execution_count": 53,
   "metadata": {},
   "outputs": [
    {
     "name": "stdout",
     "output_type": "stream",
     "text": [
      "Add: symbol='SPY' is new.\n",
      "Add: symbol='AAPL' is new.\n",
      "Add: symbol='QQQ' is new.\n",
      "Add: symbol='AMZN' is new.\n"
     ]
    }
   ],
   "source": [
    "universe = AssetUniverse()\n",
    "universe.update(['AAPL', 'AMZN', 'SPY', 'QQQ'])"
   ]
  },
  {
   "cell_type": "code",
   "execution_count": 54,
   "metadata": {},
   "outputs": [],
   "source": [
    "ind = AlpacaIndicatorHandler(\n",
    "    indicators=[SMA(period=20, name='sma', sampling_period=SamplingPeriodType.DAY_1),\n",
    "                RSI(period=14, name='rsi-14', sampling_period=SamplingPeriodType.DAY_1),\n",
    "                STOCH(period=26, smoothing_period=12, sampling_period=SamplingPeriodType.DAY_1),\n",
    "                ])"
   ]
  },
  {
   "cell_type": "code",
   "execution_count": 55,
   "metadata": {},
   "outputs": [],
   "source": [
    "ind.init_indicator(universe)"
   ]
  },
  {
   "cell_type": "code",
   "execution_count": 56,
   "metadata": {},
   "outputs": [
    {
     "name": "stdout",
     "output_type": "stream",
     "text": [
      "SPY\n",
      "\n",
      " {'sma': <framework_trader.indicator.technical.sma.SMA object at 0x7c4c40bf9190>, 'rsi-14': <framework_trader.indicator.technical.rsi.RSI object at 0x7c4c40bfa540>, 'STOCH_26_12': <framework_trader.indicator.technical.stoch.STOCH object at 0x7c4c40bf8fe0>}\n",
      "AAPL\n",
      "\n",
      " {'sma': <framework_trader.indicator.technical.sma.SMA object at 0x7c4c400581d0>, 'rsi-14': <framework_trader.indicator.technical.rsi.RSI object at 0x7c4c40058170>, 'STOCH_26_12': <framework_trader.indicator.technical.stoch.STOCH object at 0x7c4c40058bf0>}\n",
      "QQQ\n",
      "\n",
      " {'sma': <framework_trader.indicator.technical.sma.SMA object at 0x7c4c4005ba40>, 'rsi-14': <framework_trader.indicator.technical.rsi.RSI object at 0x7c4c40059850>, 'STOCH_26_12': <framework_trader.indicator.technical.stoch.STOCH object at 0x7c4c40059ca0>}\n",
      "AMZN\n",
      "\n",
      " {'sma': <framework_trader.indicator.technical.sma.SMA object at 0x7c4c400587a0>, 'rsi-14': <framework_trader.indicator.technical.rsi.RSI object at 0x7c4c40059dc0>, 'STOCH_26_12': <framework_trader.indicator.technical.stoch.STOCH object at 0x7c4c400593d0>}\n"
     ]
    }
   ],
   "source": [
    "for k, v in ind.attached_indicators.items():\n",
    "    print(k)\n",
    "    print(\"\\n\", v)"
   ]
  },
  {
   "cell_type": "code",
   "execution_count": 57,
   "metadata": {},
   "outputs": [],
   "source": [
    "from benedict import benedict\n",
    "from alpaca.data import StockHistoricalDataClient\n",
    "from alpaca.data.requests import StockBarsRequest\n",
    "from alpaca.data.enums import Adjustment\n",
    "from alpaca.data.timeframe import TimeFrame\n",
    "import pendulum\n",
    "\n",
    "api_key = benedict({'API_KEY': 'PKXIVKUNUWH8JXKKZW8J', 'SECRET_KEY': 'Ksloi06BngKzf0pAZmeCRKltuyaQjglJKSFM7KK2'})"
   ]
  },
  {
   "cell_type": "code",
   "execution_count": 58,
   "metadata": {},
   "outputs": [],
   "source": [
    "stock_client = StockHistoricalDataClient(\n",
    "    api_key=api_key.API_KEY, secret_key=api_key.SECRET_KEY\n",
    ")"
   ]
  },
  {
   "cell_type": "code",
   "execution_count": 63,
   "metadata": {},
   "outputs": [],
   "source": [
    "from alpaca.common.exceptions import APIError"
   ]
  },
  {
   "cell_type": "code",
   "execution_count": 83,
   "metadata": {},
   "outputs": [
    {
     "name": "stdout",
     "output_type": "stream",
     "text": [
      "APIError: {\"message\":\"subscription does not permit querying recent SIP data\"}\n",
      " Try again with delay...\n"
     ]
    }
   ],
   "source": [
    "try:\n",
    "    bars = stock_client.get_stock_bars(\n",
    "    StockBarsRequest(\n",
    "        symbol_or_symbols=universe.universe,\n",
    "        timeframe=TimeFrame.Day,\n",
    "        end=pendulum.now().subtract(minutes=0),\n",
    "        start=pendulum.now().subtract(years=1),\n",
    "        # limit=100,\n",
    "        # sort='desc',\n",
    "        adjustment='all',\n",
    "    )\n",
    ")\n",
    "except APIError as e:\n",
    "    print(f\"{e.__class__.__name__}: {e._error} Try again with delay...\")"
   ]
  },
  {
   "cell_type": "code",
   "execution_count": 60,
   "metadata": {},
   "outputs": [
    {
     "data": {
      "text/plain": [
       "False"
      ]
     },
     "execution_count": 60,
     "metadata": {},
     "output_type": "execute_result"
    }
   ],
   "source": [
    "ind.is_warmup"
   ]
  },
  {
   "cell_type": "code",
   "execution_count": 10,
   "metadata": {},
   "outputs": [],
   "source": [
    "ind.warmup(bars.df)"
   ]
  },
  {
   "cell_type": "code",
   "execution_count": 11,
   "metadata": {},
   "outputs": [
    {
     "data": {
      "text/plain": [
       "True"
      ]
     },
     "execution_count": 11,
     "metadata": {},
     "output_type": "execute_result"
    }
   ],
   "source": [
    "ind.is_warmup"
   ]
  },
  {
   "cell_type": "code",
   "execution_count": 12,
   "metadata": {},
   "outputs": [
    {
     "data": {
      "text/plain": [
       "[227.82,\n",
       " 228.68,\n",
       " 232.98,\n",
       " 227.57,\n",
       " 230.54,\n",
       " 234.4,\n",
       " 234.82,\n",
       " 228.88,\n",
       " 224.18,\n",
       " 224.31,\n",
       " 223.96,\n",
       " 225.01,\n",
       " 218.54,\n",
       " 217.49,\n",
       " 217.96,\n",
       " 218.24,\n",
       " 218.8,\n",
       " 222.08,\n",
       " 218.36,\n",
       " 219.86]"
      ]
     },
     "execution_count": 12,
     "metadata": {},
     "output_type": "execute_result"
    }
   ],
   "source": [
    "ind.get('AAPL', 'sma').input_values"
   ]
  },
  {
   "cell_type": "code",
   "execution_count": 13,
   "metadata": {},
   "outputs": [
    {
     "data": {
      "text/plain": [
       "StochVal(k=35.49944300037137, d=45.56331787572337)"
      ]
     },
     "execution_count": 13,
     "metadata": {},
     "output_type": "execute_result"
    }
   ],
   "source": [
    "ind.get('AAPL', 'STOCH_26_12').value"
   ]
  },
  {
   "cell_type": "code",
   "execution_count": 14,
   "metadata": {},
   "outputs": [
    {
     "data": {
      "text/plain": [
       "{'SPY': {'sma': <framework_trader.indicator.technical.sma.SMA object at 0x7c4c4c095a90>, 'rsi-14': <framework_trader.indicator.technical.rsi.RSI object at 0x7c4c4c095e50>, 'STOCH_26_12': <framework_trader.indicator.technical.stoch.STOCH object at 0x7c4c4c094500>}, 'AAPL': {'sma': <framework_trader.indicator.technical.sma.SMA object at 0x7c4c4c095b80>, 'rsi-14': <framework_trader.indicator.technical.rsi.RSI object at 0x7c4c4c096300>, 'STOCH_26_12': <framework_trader.indicator.technical.stoch.STOCH object at 0x7c4c4c095d60>}, 'QQQ': {'sma': <framework_trader.indicator.technical.sma.SMA object at 0x7c4c4c095c40>, 'rsi-14': <framework_trader.indicator.technical.rsi.RSI object at 0x7c4c4c096600>, 'STOCH_26_12': <framework_trader.indicator.technical.stoch.STOCH object at 0x7c4c4c096420>}, 'AMZN': {'sma': <framework_trader.indicator.technical.sma.SMA object at 0x7c4c4c096ba0>, 'rsi-14': <framework_trader.indicator.technical.rsi.RSI object at 0x7c4c4c0969f0>, 'STOCH_26_12': <framework_trader.indicator.technical.stoch.STOCH object at 0x7c4c4c096870>}}"
      ]
     },
     "execution_count": 14,
     "metadata": {},
     "output_type": "execute_result"
    }
   ],
   "source": [
    "ind.attached_indicators"
   ]
  },
  {
   "cell_type": "code",
   "execution_count": 15,
   "metadata": {},
   "outputs": [
    {
     "data": {
      "text/html": [
       "<div>\n",
       "<style scoped>\n",
       "    .dataframe tbody tr th:only-of-type {\n",
       "        vertical-align: middle;\n",
       "    }\n",
       "\n",
       "    .dataframe tbody tr th {\n",
       "        vertical-align: top;\n",
       "    }\n",
       "\n",
       "    .dataframe thead th {\n",
       "        text-align: right;\n",
       "    }\n",
       "</style>\n",
       "<table border=\"1\" class=\"dataframe\">\n",
       "  <thead>\n",
       "    <tr style=\"text-align: right;\">\n",
       "      <th></th>\n",
       "      <th>open</th>\n",
       "      <th>high</th>\n",
       "      <th>low</th>\n",
       "      <th>close</th>\n",
       "      <th>volume</th>\n",
       "      <th>trade_count</th>\n",
       "      <th>vwap</th>\n",
       "    </tr>\n",
       "    <tr>\n",
       "      <th>timestamp</th>\n",
       "      <th></th>\n",
       "      <th></th>\n",
       "      <th></th>\n",
       "      <th></th>\n",
       "      <th></th>\n",
       "      <th></th>\n",
       "      <th></th>\n",
       "    </tr>\n",
       "  </thead>\n",
       "  <tbody>\n",
       "    <tr>\n",
       "      <th>2023-08-04 04:00:00+00:00</th>\n",
       "      <td>184.54</td>\n",
       "      <td>186.390</td>\n",
       "      <td>180.96</td>\n",
       "      <td>181.03</td>\n",
       "      <td>115956843.0</td>\n",
       "      <td>1336767.0</td>\n",
       "      <td>183.310000</td>\n",
       "    </tr>\n",
       "    <tr>\n",
       "      <th>2023-08-07 04:00:00+00:00</th>\n",
       "      <td>181.17</td>\n",
       "      <td>182.170</td>\n",
       "      <td>176.42</td>\n",
       "      <td>177.91</td>\n",
       "      <td>97586944.0</td>\n",
       "      <td>1159593.0</td>\n",
       "      <td>178.070000</td>\n",
       "    </tr>\n",
       "    <tr>\n",
       "      <th>2023-08-08 04:00:00+00:00</th>\n",
       "      <td>178.75</td>\n",
       "      <td>179.320</td>\n",
       "      <td>176.65</td>\n",
       "      <td>178.85</td>\n",
       "      <td>67832886.0</td>\n",
       "      <td>709234.0</td>\n",
       "      <td>178.040000</td>\n",
       "    </tr>\n",
       "    <tr>\n",
       "      <th>2023-08-09 04:00:00+00:00</th>\n",
       "      <td>179.92</td>\n",
       "      <td>179.980</td>\n",
       "      <td>176.08</td>\n",
       "      <td>177.25</td>\n",
       "      <td>60386755.0</td>\n",
       "      <td>666321.0</td>\n",
       "      <td>177.550000</td>\n",
       "    </tr>\n",
       "    <tr>\n",
       "      <th>2023-08-10 04:00:00+00:00</th>\n",
       "      <td>178.54</td>\n",
       "      <td>179.800</td>\n",
       "      <td>176.67</td>\n",
       "      <td>177.03</td>\n",
       "      <td>54695861.0</td>\n",
       "      <td>653105.0</td>\n",
       "      <td>177.860000</td>\n",
       "    </tr>\n",
       "    <tr>\n",
       "      <th>...</th>\n",
       "      <td>...</td>\n",
       "      <td>...</td>\n",
       "      <td>...</td>\n",
       "      <td>...</td>\n",
       "      <td>...</td>\n",
       "      <td>...</td>\n",
       "      <td>...</td>\n",
       "    </tr>\n",
       "    <tr>\n",
       "      <th>2024-07-29 04:00:00+00:00</th>\n",
       "      <td>216.96</td>\n",
       "      <td>219.300</td>\n",
       "      <td>215.75</td>\n",
       "      <td>218.24</td>\n",
       "      <td>36311778.0</td>\n",
       "      <td>604724.0</td>\n",
       "      <td>218.135864</td>\n",
       "    </tr>\n",
       "    <tr>\n",
       "      <th>2024-07-30 04:00:00+00:00</th>\n",
       "      <td>219.19</td>\n",
       "      <td>220.325</td>\n",
       "      <td>216.12</td>\n",
       "      <td>218.80</td>\n",
       "      <td>41643840.0</td>\n",
       "      <td>584355.0</td>\n",
       "      <td>218.407162</td>\n",
       "    </tr>\n",
       "    <tr>\n",
       "      <th>2024-07-31 04:00:00+00:00</th>\n",
       "      <td>221.44</td>\n",
       "      <td>223.820</td>\n",
       "      <td>220.63</td>\n",
       "      <td>222.08</td>\n",
       "      <td>50036262.0</td>\n",
       "      <td>668901.0</td>\n",
       "      <td>222.335591</td>\n",
       "    </tr>\n",
       "    <tr>\n",
       "      <th>2024-08-01 04:00:00+00:00</th>\n",
       "      <td>224.37</td>\n",
       "      <td>224.480</td>\n",
       "      <td>217.02</td>\n",
       "      <td>218.36</td>\n",
       "      <td>62500996.0</td>\n",
       "      <td>876129.0</td>\n",
       "      <td>219.453012</td>\n",
       "    </tr>\n",
       "    <tr>\n",
       "      <th>2024-08-02 04:00:00+00:00</th>\n",
       "      <td>219.15</td>\n",
       "      <td>225.600</td>\n",
       "      <td>217.71</td>\n",
       "      <td>219.86</td>\n",
       "      <td>105568560.0</td>\n",
       "      <td>1132553.0</td>\n",
       "      <td>221.893762</td>\n",
       "    </tr>\n",
       "  </tbody>\n",
       "</table>\n",
       "<p>251 rows × 7 columns</p>\n",
       "</div>"
      ],
      "text/plain": [
       "                             open     high     low   close       volume  \\\n",
       "timestamp                                                                 \n",
       "2023-08-04 04:00:00+00:00  184.54  186.390  180.96  181.03  115956843.0   \n",
       "2023-08-07 04:00:00+00:00  181.17  182.170  176.42  177.91   97586944.0   \n",
       "2023-08-08 04:00:00+00:00  178.75  179.320  176.65  178.85   67832886.0   \n",
       "2023-08-09 04:00:00+00:00  179.92  179.980  176.08  177.25   60386755.0   \n",
       "2023-08-10 04:00:00+00:00  178.54  179.800  176.67  177.03   54695861.0   \n",
       "...                           ...      ...     ...     ...          ...   \n",
       "2024-07-29 04:00:00+00:00  216.96  219.300  215.75  218.24   36311778.0   \n",
       "2024-07-30 04:00:00+00:00  219.19  220.325  216.12  218.80   41643840.0   \n",
       "2024-07-31 04:00:00+00:00  221.44  223.820  220.63  222.08   50036262.0   \n",
       "2024-08-01 04:00:00+00:00  224.37  224.480  217.02  218.36   62500996.0   \n",
       "2024-08-02 04:00:00+00:00  219.15  225.600  217.71  219.86  105568560.0   \n",
       "\n",
       "                           trade_count        vwap  \n",
       "timestamp                                           \n",
       "2023-08-04 04:00:00+00:00    1336767.0  183.310000  \n",
       "2023-08-07 04:00:00+00:00    1159593.0  178.070000  \n",
       "2023-08-08 04:00:00+00:00     709234.0  178.040000  \n",
       "2023-08-09 04:00:00+00:00     666321.0  177.550000  \n",
       "2023-08-10 04:00:00+00:00     653105.0  177.860000  \n",
       "...                                ...         ...  \n",
       "2024-07-29 04:00:00+00:00     604724.0  218.135864  \n",
       "2024-07-30 04:00:00+00:00     584355.0  218.407162  \n",
       "2024-07-31 04:00:00+00:00     668901.0  222.335591  \n",
       "2024-08-01 04:00:00+00:00     876129.0  219.453012  \n",
       "2024-08-02 04:00:00+00:00    1132553.0  221.893762  \n",
       "\n",
       "[251 rows x 7 columns]"
      ]
     },
     "execution_count": 15,
     "metadata": {},
     "output_type": "execute_result"
    }
   ],
   "source": [
    "bars.df.loc['AAPL']"
   ]
  },
  {
   "cell_type": "code",
   "execution_count": 27,
   "metadata": {},
   "outputs": [],
   "source": [
    "bar = stock_client.get_stock_latest_bar(StockLatestBarRequest(symbol_or_symbols='AAPL'))"
   ]
  },
  {
   "cell_type": "code",
   "execution_count": 44,
   "metadata": {},
   "outputs": [],
   "source": [
    "bar['AAPL'].close = 500\n",
    "bar['AAPL'].timestamp = datetime(2024, 8, 5)"
   ]
  },
  {
   "cell_type": "code",
   "execution_count": 45,
   "metadata": {},
   "outputs": [
    {
     "data": {
      "text/plain": [
       "{   'close': 500.0,\n",
       "    'high': 219.905,\n",
       "    'low': 219.25,\n",
       "    'open': 219.275,\n",
       "    'symbol': 'AAPL',\n",
       "    'timestamp': datetime.datetime(2024, 8, 5, 0, 0),\n",
       "    'trade_count': 508.0,\n",
       "    'volume': 46499.0,\n",
       "    'vwap': 219.629616}"
      ]
     },
     "execution_count": 45,
     "metadata": {},
     "output_type": "execute_result"
    }
   ],
   "source": [
    "bar['AAPL']"
   ]
  },
  {
   "cell_type": "code",
   "execution_count": 46,
   "metadata": {},
   "outputs": [],
   "source": [
    "ind.update(bar['AAPL'])"
   ]
  },
  {
   "cell_type": "code",
   "execution_count": 51,
   "metadata": {},
   "outputs": [
    {
     "data": {
      "text/plain": [
       "[228.88,\n",
       " 224.18,\n",
       " 224.31,\n",
       " 223.96,\n",
       " 225.01,\n",
       " 218.54,\n",
       " 217.49,\n",
       " 217.96,\n",
       " 218.24,\n",
       " 218.8,\n",
       " 222.08,\n",
       " 218.36,\n",
       " 200.0,\n",
       " 500.0]"
      ]
     },
     "execution_count": 51,
     "metadata": {},
     "output_type": "execute_result"
    }
   ],
   "source": [
    "ind.get('AAPL', 'rsi-14').input_values"
   ]
  },
  {
   "cell_type": "code",
   "execution_count": 48,
   "metadata": {},
   "outputs": [
    {
     "data": {
      "text/plain": [
       "[StochVal(k=99.96294924045947, d=93.0354231683276),\n",
       " StochVal(k=81.77868642984923, d=92.33472165497172),\n",
       " StochVal(k=84.71794871794876, d=91.94288111901871),\n",
       " StochVal(k=79.89045383411585, d=91.06508324948243),\n",
       " StochVal(k=90.72760703966377, d=90.81977095677244),\n",
       " StochVal(k=83.38954468802699, d=89.6847688992755),\n",
       " StochVal(k=68.97670303745213, d=87.4058901692483),\n",
       " StochVal(k=62.14445271779603, d=84.55698488009841),\n",
       " StochVal(k=64.08041697691733, d=81.87001510759431),\n",
       " StochVal(k=66.85033507073715, d=79.82726703681766),\n",
       " StochVal(k=79.30007446016384, d=78.11812813782319),\n",
       " StochVal(k=81.83172002978408, d=78.63757435357627),\n",
       " StochVal(k=71.46686522710354, d=76.26290068579661),\n",
       " StochVal(k=89.7244973938943, d=76.92505159946703),\n",
       " StochVal(k=99.65985973852494, d=78.17021085118171),\n",
       " StochVal(k=100.0, d=79.8460063650054),\n",
       " StochVal(k=99.70221981591774, d=80.59389076302656),\n",
       " StochVal(k=99.92092778070638, d=81.97150602074984),\n",
       " StochVal(k=98.17675360850848, d=84.40484356833787),\n",
       " StochVal(k=99.75568043000239, d=87.53911254435506),\n",
       " StochVal(k=86.53799169313457, d=89.41057710403983),\n",
       " StochVal(k=93.79428292206201, d=91.65590609165024),\n",
       " StochVal(k=93.7222715173026, d=92.8577558464118),\n",
       " StochVal(k=94.65394853593612, d=93.92627488859114),\n",
       " StochVal(k=81.47737355811891, d=94.76048391617576),\n",
       " StochVal(k=70.06880733944958, d=93.12250974497204),\n",
       " StochVal(k=57.83289817232379, d=89.63692961445527),\n",
       " StochVal(k=56.69060052219325, d=86.0278129913047),\n",
       " StochVal(k=60.11749347258484, d=82.72908579602696),\n",
       " StochVal(k=39.0013054830287, d=77.65245060455382),\n",
       " StochVal(k=35.574412532637105, d=72.4355888482312),\n",
       " StochVal(k=37.10835509138384, d=67.21497840334632),\n",
       " StochVal(k=38.02219321148828, d=63.17199519654246),\n",
       " StochVal(k=39.849869451697174, d=58.67662740734539),\n",
       " StochVal(k=47.06498951781975, d=54.788520574055156),\n",
       " StochVal(k=29.929446713702223, d=49.394812088868996),\n",
       " StochVal(k=-38.24730783512818, d=39.41775530609841),\n",
       " StochVal(k=1075.7519494987012, d=123.22468381936937)]"
      ]
     },
     "execution_count": 48,
     "metadata": {},
     "output_type": "execute_result"
    }
   ],
   "source": [
    "ind.get('AAPL', 'STOCH_26_12').output_values"
   ]
  },
  {
   "cell_type": "code",
   "execution_count": null,
   "metadata": {},
   "outputs": [],
   "source": []
  }
 ],
 "metadata": {
  "kernelspec": {
   "display_name": "alpaca",
   "language": "python",
   "name": "python3"
  },
  "language_info": {
   "codemirror_mode": {
    "name": "ipython",
    "version": 3
   },
   "file_extension": ".py",
   "mimetype": "text/x-python",
   "name": "python",
   "nbconvert_exporter": "python",
   "pygments_lexer": "ipython3",
   "version": "3.12.3"
  }
 },
 "nbformat": 4,
 "nbformat_minor": 2
}
