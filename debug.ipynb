{
 "cells": [
  {
   "cell_type": "code",
   "execution_count": 21,
   "metadata": {},
   "outputs": [],
   "source": [
    "from framework_trader.universe import AssetUniverse\n",
    "from framework_trader.indicator.handler.alpaca import AlpacaIndicatorHandler\n",
    "from framework_trader.indicator.technical import  SMA, RSI, STOCH\n",
    "from framework_trader.indicator.technical.settings import  SamplingPeriodType"
   ]
  },
  {
   "cell_type": "code",
   "execution_count": 2,
   "metadata": {},
   "outputs": [
    {
     "name": "stdout",
     "output_type": "stream",
     "text": [
      "Add: symbol='QQQ' is new.\n",
      "Add: symbol='SPY' is new.\n",
      "Add: symbol='AAPL' is new.\n",
      "Add: symbol='AMZN' is new.\n"
     ]
    }
   ],
   "source": [
    "universe = AssetUniverse()\n",
    "universe.update(['AAPL', 'AMZN', 'SPY', 'QQQ'])"
   ]
  },
  {
   "cell_type": "code",
   "execution_count": 22,
   "metadata": {},
   "outputs": [],
   "source": [
    "ind = AlpacaIndicatorHandler(\n",
    "    indicators=[SMA(period=20, name='sma', sampling_period=SamplingPeriodType.DAY_1),\n",
    "                RSI(period=14, name='rsi-14', sampling_period=SamplingPeriodType.DAY_1),\n",
    "                STOCH(period=26, smoothing_period=12, sampling_period=SamplingPeriodType.DAY_1),\n",
    "                ])"
   ]
  },
  {
   "cell_type": "code",
   "execution_count": 23,
   "metadata": {},
   "outputs": [],
   "source": [
    "ind.init_indicator(universe)"
   ]
  },
  {
   "cell_type": "code",
   "execution_count": 24,
   "metadata": {},
   "outputs": [
    {
     "name": "stdout",
     "output_type": "stream",
     "text": [
      "QQQ\n",
      "\n",
      " {'sma': <framework_trader.indicator.technical.sma.SMA object at 0x79e0e0146ea0>, 'rsi-14': <framework_trader.indicator.technical.rsi.RSI object at 0x79e0e0147080>, 'STOCH_26_12': <framework_trader.indicator.technical.stoch.STOCH object at 0x79e0e0147e30>}\n",
      "AAPL\n",
      "\n",
      " {'sma': <framework_trader.indicator.technical.sma.SMA object at 0x79e0e0146c30>, 'rsi-14': <framework_trader.indicator.technical.rsi.RSI object at 0x79e0e1fb09b0>, 'STOCH_26_12': <framework_trader.indicator.technical.stoch.STOCH object at 0x79e0e01da180>}\n",
      "SPY\n",
      "\n",
      " {'sma': <framework_trader.indicator.technical.sma.SMA object at 0x79e0e01db1d0>, 'rsi-14': <framework_trader.indicator.technical.rsi.RSI object at 0x79e0e01db8c0>, 'STOCH_26_12': <framework_trader.indicator.technical.stoch.STOCH object at 0x79e0e01db3b0>}\n",
      "AMZN\n",
      "\n",
      " {'sma': <framework_trader.indicator.technical.sma.SMA object at 0x79e0e01d9010>, 'rsi-14': <framework_trader.indicator.technical.rsi.RSI object at 0x79e0e01da570>, 'STOCH_26_12': <framework_trader.indicator.technical.stoch.STOCH object at 0x79e0e01da4e0>}\n"
     ]
    }
   ],
   "source": [
    "for k, v in ind.attached_indicators.items():\n",
    "    print(k)\n",
    "    print(\"\\n\", v)"
   ]
  },
  {
   "cell_type": "code",
   "execution_count": 25,
   "metadata": {},
   "outputs": [],
   "source": [
    "from benedict import benedict\n",
    "from alpaca.data import StockHistoricalDataClient\n",
    "from alpaca.data.requests import StockBarsRequest\n",
    "from alpaca.data.enums import Adjustment\n",
    "from alpaca.data.timeframe import TimeFrame\n",
    "import pendulum\n",
    "\n",
    "api_key = benedict({'API_KEY': 'PKXIVKUNUWH8JXKKZW8J', 'SECRET_KEY': 'Ksloi06BngKzf0pAZmeCRKltuyaQjglJKSFM7KK2'})"
   ]
  },
  {
   "cell_type": "code",
   "execution_count": 26,
   "metadata": {},
   "outputs": [],
   "source": [
    "stock_client = StockHistoricalDataClient(\n",
    "    api_key=api_key.API_KEY, secret_key=api_key.SECRET_KEY\n",
    ")"
   ]
  },
  {
   "cell_type": "code",
   "execution_count": 27,
   "metadata": {},
   "outputs": [],
   "source": [
    "bars = stock_client.get_stock_bars(\n",
    "    StockBarsRequest(\n",
    "        symbol_or_symbols=universe.universe,\n",
    "        timeframe=TimeFrame.Day,\n",
    "        end=pendulum.now().subtract(minutes=15),\n",
    "        start=pendulum.now().subtract(years=1),\n",
    "        # limit=100,\n",
    "        # sort='desc',\n",
    "        adjustment='all',\n",
    "    )\n",
    ")"
   ]
  },
  {
   "cell_type": "code",
   "execution_count": 28,
   "metadata": {},
   "outputs": [
    {
     "data": {
      "text/plain": [
       "False"
      ]
     },
     "execution_count": 28,
     "metadata": {},
     "output_type": "execute_result"
    }
   ],
   "source": [
    "ind.is_warmup()"
   ]
  },
  {
   "cell_type": "code",
   "execution_count": 29,
   "metadata": {},
   "outputs": [],
   "source": [
    "ind.warmup(bars.df)"
   ]
  },
  {
   "cell_type": "code",
   "execution_count": 30,
   "metadata": {},
   "outputs": [
    {
     "data": {
      "text/plain": [
       "True"
      ]
     },
     "execution_count": 30,
     "metadata": {},
     "output_type": "execute_result"
    }
   ],
   "source": [
    "ind.is_warmup()"
   ]
  },
  {
   "cell_type": "code",
   "execution_count": 31,
   "metadata": {},
   "outputs": [
    {
     "data": {
      "text/plain": [
       "[227.82,\n",
       " 228.68,\n",
       " 232.98,\n",
       " 227.57,\n",
       " 230.54,\n",
       " 234.4,\n",
       " 234.82,\n",
       " 228.88,\n",
       " 224.18,\n",
       " 224.31,\n",
       " 223.96,\n",
       " 225.01,\n",
       " 218.54,\n",
       " 217.49,\n",
       " 217.96,\n",
       " 218.24,\n",
       " 218.8,\n",
       " 222.08,\n",
       " 218.36,\n",
       " 219.86]"
      ]
     },
     "execution_count": 31,
     "metadata": {},
     "output_type": "execute_result"
    }
   ],
   "source": [
    "ind.get('AAPL', 'sma').input_values"
   ]
  },
  {
   "cell_type": "code",
   "execution_count": 34,
   "metadata": {},
   "outputs": [
    {
     "data": {
      "text/plain": [
       "StochVal(k=35.49944300037137, d=45.56331787572337)"
      ]
     },
     "execution_count": 34,
     "metadata": {},
     "output_type": "execute_result"
    }
   ],
   "source": [
    "ind.get('AAPL', 'STOCH_26_12').value"
   ]
  },
  {
   "cell_type": "code",
   "execution_count": null,
   "metadata": {},
   "outputs": [],
   "source": []
  }
 ],
 "metadata": {
  "kernelspec": {
   "display_name": "alpaca",
   "language": "python",
   "name": "python3"
  },
  "language_info": {
   "codemirror_mode": {
    "name": "ipython",
    "version": 3
   },
   "file_extension": ".py",
   "mimetype": "text/x-python",
   "name": "python",
   "nbconvert_exporter": "python",
   "pygments_lexer": "ipython3",
   "version": "3.12.3"
  }
 },
 "nbformat": 4,
 "nbformat_minor": 2
}
